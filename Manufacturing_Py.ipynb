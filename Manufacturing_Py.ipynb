{
 "cells": [
  {
   "cell_type": "markdown",
   "metadata": {},
   "source": [
    "### `manufacturing` Python  package- Ways to analyze manufacturing data \n",
    "\n",
    "TEver heard of Six Sigma? It's a methodology for achieving near-perfect quality in manufacturing. But what if you could leverage Six Sigma tools right from your Python environment? That's where the manufacturing package comes in!\n",
    "\n",
    "he modern factory floor generates a deluge of data, from sensor readings to production logs.  Python offers a robust ecosystem of libraries to harness this data for improved efficiency and quality control. Analyzing process data allows for the identification of trends, anomalies, and potential quality issues, enabling proactive quality control measures.  Furthermore, production data analysis reveals bottlenecks, allowing for optimized scheduling and maximized efficiency. These libraries, akin to specialized software modules, empower sophisticated data manipulation and analysis.\n",
    "\n",
    "Core libraries like Pandas excel at wrangling tabular data, the lifeblood of manufacturing records.  Pandas allows for data cleaning, transformation, and analysis, forming the bedrock of most data workflows.  NumPy, the workhorse for numerical computations, underpins many libraries and provides efficient data structures for large datasets.  SciPy, building on NumPy's foundation, offers a broader suite of scientific and engineering functions frequently employed in manufacturing analysis.\n",
    "\n",
    "By mastering these tools, manufacturers can transform raw data into actionable insights, driving data-driven decision making and achieving operational excellence.\n",
    "\n",
    "But, before going into ways how to process manufacturing data one should first understanding its' core concepts like CpK and Six Sigma Standards.\n",
    "\n",
    "#### What is CpK?\n",
    "\n",
    "CpK, or the Process Capability Index, is a statistical measure that shows how well a process is performing relative to its specification limits, or how well a process meets customer specifications. Developed in the 1980s, it considers both the spread of a process's outputs and how centered it is within the acceptable range. A higher Cpk indicates a more capable process with fewer defects. Values below 1 suggest frequent production of out-of-specification items, while those above 1.33 signal a highly capable process. Learn more about Cpk at [Six Sigma Study Guide](sixsigmastudyguide.com).\n",
    "\n",
    "- **Cp** measures the process potential by comparing the spread of the process to the specification limits.\n",
    "- **Cpk** measures the process performance by considering both the process spread and its centering relative to the specification limits.\n",
    "\n",
    "#### Formula for CpK\n",
    "\n",
    "The formula for CpK is:\n",
    "\n",
    "$$Cpk = \\min \\left( \\frac{3\\sigma \\text{USL} - \\mu}{3\\sigma}, \\frac{3\\sigma \\mu - \\text{LSL}}{3\\sigma} \\right)$$\n",
    "\n",
    "\n",
    "where:\n",
    "- $\\text{USL}$ is the upper specification limit.\n",
    "- $\\text{LSL}$ is the lower specification limit.\n",
    "- $\\mu$ is the process mean.\n",
    "- $\\sigma$ is the process standard deviation.\n",
    "\n",
    "A higher CpK value indicates a more capable process. **Values below 1 suggest frequent production of out-of-specification items, while those above 1.33 signal a highly capable process.**\n",
    "\n",
    "#### What is Six Sigma?\n",
    "\n",
    "Six Sigma is a data-driven quality improvement methodology that strives for near perfection. Developed by Motorola in the 1980s, it focuses on minimizing defects and variation in any process. It uses a set of statistical tools like Cpk to identify and eliminate the root causes of errors. **A Six Sigma process aims for only 3.4 defects per million opportunities (DPMO), signifying exceptional quality.** Six Sigma certifications demonstrate expertise in this methodology. You can find more details on Six Sigma principles at [Six Sigma.us](sixsigma.us). \n",
    "\n",
    "- **Six Sigma Standard**: Refers to a process that produces output within ±6 standard deviations (sigma) from the mean, resulting in a very low defect rate.\n",
    "- **Defects Per Million Opportunities (DPMO)**: At Six Sigma level, the process produces only 3.4 defects per million opportunities.\n",
    "\n",
    "* **Sigma Level:** Indicates how many standard deviations a process falls within its specification limits.\n",
    "* **5 Sigma:** Exceptionally high quality with around 233 DPMO (0.023% defect rate).\n",
    "* **4 Sigma:** Very good quality with roughly 6,210 DPMO (0.02% defect rate).\n",
    "* **3 Sigma:** Considered an industry standard with approximately 66,807 DPMO (0.7% defect rate).\n",
    "\n",
    "So, while a 4 sigma process has a defect rate roughly 27 times higher than a 5 sigma process, they both represent a significant reduction in defects compared to a 3 sigma process.\n",
    "\n",
    "#### Benefits of Six Sigma\n",
    "\n",
    "- **Improved Quality**: Reduces defects and improves product quality.\n",
    "- **Cost Savings**: Minimizes waste and reduces costs associated with defects.\n",
    "- **Customer Satisfaction**: Enhances customer satisfaction by consistently meeting or exceeding expectations.\n",
    "\n",
    "\n",
    "#### Key Features of the `manufacturing` Package\n",
    "\n",
    "This nifty package brings the power of Six Sigma to your fingertips.  Need to calculate a key metric like Cpk? The manufacturing package has you covered. Cpk helps you assess how well your process meets customer specifications, ensuring you're producing high-quality goods.\n",
    "\n",
    "But the manufacturing package isn't a one-trick pony. It also offers tools for calculating other Six Sigma metrics, making it a valuable asset for any data-driven manufacturer. Whether you're a seasoned Six Sigma expert or just starting your quality control journey, this package can streamline your workflow and empower you to make data-driven decisions.\n",
    "\n",
    "1. **Control Charts**: These are used to monitor the stability of manufacturing processes over time. The package supports various types of control charts, including:\n",
    "   - **X-bar and R charts**: For monitoring the mean and range of a process.\n",
    "   - **P charts**: For monitoring the proportion of defective items in a process.\n",
    "   - **C charts**: For monitoring the count of defects per unit.\n",
    "\n",
    "2. **Process Capability Indices**: These indices measure how well a process can produce output within specified limits. The package includes functions to calculate:\n",
    "   - **Cp and Cpk**: Indices that measure a process's capability and its centering within specification limits.\n",
    "   - **Pp and Ppk**: Similar to Cp and Cpk but used for overall process performance.\n",
    "\n",
    "3. **Data Analysis Tools**: The package provides tools for:\n",
    "   - **Descriptive statistics**: To summarize data.\n",
    "   - **Histograms**: To visualize data distribution.\n",
    "   - **Box plots**: To identify outliers and data spread.\n"
   ]
  },
  {
   "cell_type": "markdown",
   "metadata": {},
   "source": [
    "#### Example Use Cases\n",
    "\n",
    "Let's explore some practical examples of how the `manufacturing` package can be used.\n",
    "\n",
    "##### 1. Creating an X-bar and R Chart\n",
    "\n",
    "Suppose you are monitoring the diameter of metal rods produced in a factory. You collect samples of five rods every hour and measure their diameters."
   ]
  },
  {
   "cell_type": "code",
   "execution_count": 1,
   "metadata": {},
   "outputs": [
    {
     "ename": "TypeError",
     "evalue": "unsupported operand type(s) for -: 'list' and 'list'",
     "output_type": "error",
     "traceback": [
      "\u001b[1;31m---------------------------------------------------------------------------\u001b[0m",
      "\u001b[1;31mTypeError\u001b[0m                                 Traceback (most recent call last)",
      "\u001b[1;32mc:\\Users\\uig49683\\OneDrive - Continental AG\\Documents\\Python\\blog_posts\\Manufacturing_Py.ipynb Cell 3\u001b[0m line \u001b[0;36m1\n\u001b[0;32m      <a href='vscode-notebook-cell:/c%3A/Users/uig49683/OneDrive%20-%20Continental%20AG/Documents/Python/blog_posts/Manufacturing_Py.ipynb#W5sZmlsZQ%3D%3D?line=3'>4</a>\u001b[0m data \u001b[39m=\u001b[39m [\n\u001b[0;32m      <a href='vscode-notebook-cell:/c%3A/Users/uig49683/OneDrive%20-%20Continental%20AG/Documents/Python/blog_posts/Manufacturing_Py.ipynb#W5sZmlsZQ%3D%3D?line=4'>5</a>\u001b[0m     [\u001b[39m5.1\u001b[39m, \u001b[39m5.2\u001b[39m, \u001b[39m5.3\u001b[39m, \u001b[39m5.0\u001b[39m, \u001b[39m5.1\u001b[39m],\n\u001b[0;32m      <a href='vscode-notebook-cell:/c%3A/Users/uig49683/OneDrive%20-%20Continental%20AG/Documents/Python/blog_posts/Manufacturing_Py.ipynb#W5sZmlsZQ%3D%3D?line=5'>6</a>\u001b[0m     [\u001b[39m5.2\u001b[39m, \u001b[39m5.1\u001b[39m, \u001b[39m5.3\u001b[39m, \u001b[39m5.2\u001b[39m, \u001b[39m5.1\u001b[39m],\n\u001b[1;32m   (...)\u001b[0m\n\u001b[0;32m      <a href='vscode-notebook-cell:/c%3A/Users/uig49683/OneDrive%20-%20Continental%20AG/Documents/Python/blog_posts/Manufacturing_Py.ipynb#W5sZmlsZQ%3D%3D?line=8'>9</a>\u001b[0m     [\u001b[39m5.2\u001b[39m, \u001b[39m5.1\u001b[39m, \u001b[39m5.3\u001b[39m, \u001b[39m5.2\u001b[39m, \u001b[39m5.1\u001b[39m]\n\u001b[0;32m     <a href='vscode-notebook-cell:/c%3A/Users/uig49683/OneDrive%20-%20Continental%20AG/Documents/Python/blog_posts/Manufacturing_Py.ipynb#W5sZmlsZQ%3D%3D?line=9'>10</a>\u001b[0m ]\n\u001b[0;32m     <a href='vscode-notebook-cell:/c%3A/Users/uig49683/OneDrive%20-%20Continental%20AG/Documents/Python/blog_posts/Manufacturing_Py.ipynb#W5sZmlsZQ%3D%3D?line=11'>12</a>\u001b[0m \u001b[39m# Create X-bar and R chart\u001b[39;00m\n\u001b[1;32m---> <a href='vscode-notebook-cell:/c%3A/Users/uig49683/OneDrive%20-%20Continental%20AG/Documents/Python/blog_posts/Manufacturing_Py.ipynb#W5sZmlsZQ%3D%3D?line=12'>13</a>\u001b[0m mn\u001b[39m.\u001b[39mxbar_r_chart(data)\n",
      "File \u001b[1;32mc:\\Users\\uig49683\\AppData\\Local\\anaconda3\\Lib\\site-packages\\manufacturing\\visual.py:990\u001b[0m, in \u001b[0;36mxbar_r_chart\u001b[1;34m(data, subgroup_size, parameter_name, xbar_upper_control_limit, xbar_lower_control_limit, r_upper_control_limit, r_lower_control_limit, highlight_beyond_limits, highlight_zone_a, highlight_zone_b, highlight_zone_c, highlight_trend, highlight_mixture, highlight_stratification, highlight_overcontrol, max_points, figure)\u001b[0m\n\u001b[0;32m    987\u001b[0m     x_bars_clean\u001b[39m.\u001b[39mappend(a\u001b[39m.\u001b[39mmean())\n\u001b[0;32m    989\u001b[0m     \u001b[39m# calculate sample range \"R\"\u001b[39;00m\n\u001b[1;32m--> 990\u001b[0m     ranges_clean\u001b[39m.\u001b[39mappend(\u001b[39mabs\u001b[39m(\u001b[39mmax\u001b[39m(a) \u001b[39m-\u001b[39m \u001b[39mmin\u001b[39m(a)))\n\u001b[0;32m    992\u001b[0m x_bars \u001b[39m=\u001b[39m []\n\u001b[0;32m    993\u001b[0m ranges \u001b[39m=\u001b[39m []\n",
      "\u001b[1;31mTypeError\u001b[0m: unsupported operand type(s) for -: 'list' and 'list'"
     ]
    }
   ],
   "source": [
    "import manufacturing as mn\n",
    "\n",
    "# Sample data: each sublist represents diameters of five rods measured every hour\n",
    "data = [\n",
    "    [5.1, 5.2, 5.3, 5.0, 5.1],\n",
    "    [5.2, 5.1, 5.3, 5.2, 5.1],\n",
    "    [5.0, 5.1, 5.0, 5.2, 5.3],\n",
    "    [5.1, 5.2, 5.2, 5.1, 5.0],\n",
    "    [5.2, 5.1, 5.3, 5.2, 5.1]\n",
    "]\n",
    "\n",
    "# Create X-bar and R chart\n",
    "mn.xbar_r_chart(data)"
   ]
  },
  {
   "cell_type": "markdown",
   "metadata": {},
   "source": [
    "This code generates an X-bar and R chart, helping you visualize whether the diameter measurements are within acceptable control limits.\n",
    "\n",
    "##### 2. Calculating Process Capability Indices\n",
    "\n",
    "Assume you have a process with a target diameter of 5.0 units and tolerance limits of ±0.2 units. You want to calculate the Cp and Cpk indices to understand the process capability."
   ]
  },
  {
   "cell_type": "code",
   "execution_count": 2,
   "metadata": {},
   "outputs": [
    {
     "ename": "AttributeError",
     "evalue": "module 'manufacturing' has no attribute 'cp'",
     "output_type": "error",
     "traceback": [
      "\u001b[1;31m---------------------------------------------------------------------------\u001b[0m",
      "\u001b[1;31mAttributeError\u001b[0m                            Traceback (most recent call last)",
      "\u001b[1;32mc:\\Users\\uig49683\\OneDrive - Continental AG\\Documents\\Python\\blog_posts\\Manufacturing_Py.ipynb Cell 5\u001b[0m line \u001b[0;36m1\n\u001b[0;32m      <a href='vscode-notebook-cell:/c%3A/Users/uig49683/OneDrive%20-%20Continental%20AG/Documents/Python/blog_posts/Manufacturing_Py.ipynb#X10sZmlsZQ%3D%3D?line=7'>8</a>\u001b[0m LSL \u001b[39m=\u001b[39m \u001b[39m4.8\u001b[39m  \u001b[39m# Lower specification limit\u001b[39;00m\n\u001b[0;32m     <a href='vscode-notebook-cell:/c%3A/Users/uig49683/OneDrive%20-%20Continental%20AG/Documents/Python/blog_posts/Manufacturing_Py.ipynb#X10sZmlsZQ%3D%3D?line=9'>10</a>\u001b[0m \u001b[39m# Calculate Cp and Cpk\u001b[39;00m\n\u001b[1;32m---> <a href='vscode-notebook-cell:/c%3A/Users/uig49683/OneDrive%20-%20Continental%20AG/Documents/Python/blog_posts/Manufacturing_Py.ipynb#X10sZmlsZQ%3D%3D?line=10'>11</a>\u001b[0m cp_value \u001b[39m=\u001b[39m mn\u001b[39m.\u001b[39mcp(diameters, USL, LSL)\n\u001b[0;32m     <a href='vscode-notebook-cell:/c%3A/Users/uig49683/OneDrive%20-%20Continental%20AG/Documents/Python/blog_posts/Manufacturing_Py.ipynb#X10sZmlsZQ%3D%3D?line=11'>12</a>\u001b[0m cpk_value \u001b[39m=\u001b[39m mn\u001b[39m.\u001b[39mcpk(diameters, USL, LSL)\n\u001b[0;32m     <a href='vscode-notebook-cell:/c%3A/Users/uig49683/OneDrive%20-%20Continental%20AG/Documents/Python/blog_posts/Manufacturing_Py.ipynb#X10sZmlsZQ%3D%3D?line=13'>14</a>\u001b[0m \u001b[39mprint\u001b[39m(\u001b[39mf\u001b[39m\u001b[39m\"\u001b[39m\u001b[39mCp: \u001b[39m\u001b[39m{\u001b[39;00mcp_value\u001b[39m}\u001b[39;00m\u001b[39m\"\u001b[39m)\n",
      "\u001b[1;31mAttributeError\u001b[0m: module 'manufacturing' has no attribute 'cp'"
     ]
    }
   ],
   "source": [
    "import numpy as np\n",
    "\n",
    "# Example data: diameters measured from the process\n",
    "diameters = np.array([5.1, 5.2, 5.0, 5.1, 5.2, 5.3, 5.1, 5.0, 5.2, 5.3])\n",
    "\n",
    "# Specification limits\n",
    "USL = 5.2  # Upper specification limit\n",
    "LSL = 4.8  # Lower specification limit\n",
    "\n",
    "# Calculate Cp and Cpk\n",
    "cp_value = mn.cp(diameters, USL, LSL)\n",
    "cpk_value = mn.cpk(diameters, USL, LSL)\n",
    "\n",
    "print(f\"Cp: {cp_value}\")\n",
    "print(f\"Cpk: {cpk_value}\")"
   ]
  },
  {
   "cell_type": "markdown",
   "metadata": {},
   "source": [
    "These calculations show how capable your process is in meeting the specification limits.\n",
    "\n",
    "#### Benefits for Non-Manufacturing Audiences\n",
    "\n",
    "While the `manufacturing` package is tailored for manufacturing processes, its tools for statistical analysis and data visualization can be beneficial for various fields. For example:\n",
    "- **Quality Control in Service Industries**: Control charts can be used to monitor service quality metrics like customer wait times or error rates.\n",
    "- **Healthcare**: Hospitals can use these tools to monitor patient recovery times or infection rates.\n",
    "- **Software Development**: Development teams can track defect rates and process stability over different software releases."
   ]
  },
  {
   "cell_type": "markdown",
   "metadata": {},
   "source": [
    "### Alternatives to the `manufacturing` Python Package\n",
    "\n",
    "While the `manufacturing` package is a robust tool for statistical process control (SPC) and process capability analysis, several other Python packages offer similar functionalities. Here are a few notable ones:\n",
    "\n",
    "1. **SciPy and NumPy**: These are fundamental packages for scientific computing in Python. While not specifically tailored for manufacturing, they provide extensive capabilities for statistical analysis and data manipulation, which can be used to create custom SPC tools.\n",
    "\n",
    "2. **PySPC**: This package is designed specifically for statistical process control and includes functions for creating control charts and other SPC tools.\n",
    "\n",
    "3. **Quality-Control**: This package focuses on quality control methods and includes tools for control charts, process capability indices, and other SPC techniques.\n",
    "\n",
    "### Comparison of Packages\n",
    "\n",
    "#### 1. SciPy and NumPy\n",
    "\n",
    "**Pros**:\n",
    "- Highly versatile and widely used in the data science community.\n",
    "- Extensive documentation and community support.\n",
    "- Can be used for a wide range of statistical and scientific computing tasks.\n",
    "\n",
    "**Cons**:\n",
    "- Requires more effort to implement SPC-specific tools compared to dedicated packages.\n",
    "\n",
    "#### 2. PySPC\n",
    "\n",
    "**Pros**:\n",
    "- Specifically designed for SPC.\n",
    "- Easy to use with built-in functions for creating various control charts.\n",
    "\n",
    "**Cons**:\n",
    "- Less widely used and supported compared to SciPy and NumPy.\n",
    "- May have fewer features than more comprehensive packages.\n",
    "\n",
    "#### 3. Quality-Control\n",
    "\n",
    "**Pros**:\n",
    "- Focuses on quality control methods.\n",
    "- Provides tools for control charts and process capability indices.\n",
    "\n",
    "**Cons**:\n",
    "- May not be as comprehensive as other packages.\n",
    "- Limited community support and documentation compared to larger packages.\n",
    "\n",
    "### Example: Using PySPC for Control Charts\n",
    "\n",
    "Let's look at an example of creating a control chart using the PySPC package."
   ]
  },
  {
   "cell_type": "code",
   "execution_count": 3,
   "metadata": {},
   "outputs": [
    {
     "ename": "ModuleNotFoundError",
     "evalue": "No module named 'pyspc'",
     "output_type": "error",
     "traceback": [
      "\u001b[1;31m---------------------------------------------------------------------------\u001b[0m",
      "\u001b[1;31mModuleNotFoundError\u001b[0m                       Traceback (most recent call last)",
      "\u001b[1;32mc:\\Users\\uig49683\\OneDrive - Continental AG\\Documents\\Python\\blog_posts\\Manufacturing_Py.ipynb Cell 8\u001b[0m line \u001b[0;36m1\n\u001b[1;32m----> <a href='vscode-notebook-cell:/c%3A/Users/uig49683/OneDrive%20-%20Continental%20AG/Documents/Python/blog_posts/Manufacturing_Py.ipynb#X12sZmlsZQ%3D%3D?line=0'>1</a>\u001b[0m \u001b[39mimport\u001b[39;00m \u001b[39mpyspc\u001b[39;00m\n\u001b[0;32m      <a href='vscode-notebook-cell:/c%3A/Users/uig49683/OneDrive%20-%20Continental%20AG/Documents/Python/blog_posts/Manufacturing_Py.ipynb#X12sZmlsZQ%3D%3D?line=2'>3</a>\u001b[0m \u001b[39m# Sample data: diameters of rods measured over time\u001b[39;00m\n\u001b[0;32m      <a href='vscode-notebook-cell:/c%3A/Users/uig49683/OneDrive%20-%20Continental%20AG/Documents/Python/blog_posts/Manufacturing_Py.ipynb#X12sZmlsZQ%3D%3D?line=3'>4</a>\u001b[0m data \u001b[39m=\u001b[39m [\u001b[39m5.1\u001b[39m, \u001b[39m5.2\u001b[39m, \u001b[39m5.0\u001b[39m, \u001b[39m5.1\u001b[39m, \u001b[39m5.2\u001b[39m, \u001b[39m5.3\u001b[39m, \u001b[39m5.1\u001b[39m, \u001b[39m5.0\u001b[39m, \u001b[39m5.2\u001b[39m, \u001b[39m5.3\u001b[39m]\n",
      "\u001b[1;31mModuleNotFoundError\u001b[0m: No module named 'pyspc'"
     ]
    }
   ],
   "source": [
    "import pyspc\n",
    "\n",
    "# Sample data: diameters of rods measured over time\n",
    "data = [5.1, 5.2, 5.0, 5.1, 5.2, 5.3, 5.1, 5.0, 5.2, 5.3]\n",
    "\n",
    "# Create a control chart\n",
    "chart = pyspc.x_mr(data)\n",
    "chart.plot()\n"
   ]
  },
  {
   "cell_type": "markdown",
   "metadata": {},
   "source": [
    "This code snippet demonstrates how to create an X-MR (individuals and moving range) chart using PySPC.\n",
    "\n",
    "## Conclusion\n",
    "\n",
    "Understanding key concepts like CpK and Six Sigma is crucial for improving manufacturing processes and ensuring high-quality output.\n",
    "\n",
    "The `manufacturing` Python package is a versatile and user-friendly tool that simplifies the process of monitoring and improving production processes. Whether you're in manufacturing or another field, the statistical analysis and visualization capabilities of this package can help you ensure quality and efficiency in your operations.\n",
    "\n",
    "Several Python packages can help you with SPC and process capability analysis, each with its own strengths and weaknesses.\n",
    "\n",
    "For more information and detailed documentation of the `manufacturing` Python, you can visit the [official PyPI page](https://pypi.org/project/manufacturing/).\n",
    "\n",
    "For further reading and practical examples, you can explore the documentation and resources provided by each package. Here are some links to get you started:\n",
    "- [SciPy Documentation](https://docs.scipy.org/doc/scipy/)\n",
    "- [NumPy Documentation](https://numpy.org/doc/stable/)\n",
    "- [PySPC Documentation](https://pypi.org/project/pyspc/)\n",
    "- [Quality-Control Package](https://pypi.org/project/quality-control/)"
   ]
  },
  {
   "cell_type": "markdown",
   "metadata": {},
   "source": []
  }
 ],
 "metadata": {
  "kernelspec": {
   "display_name": "base",
   "language": "python",
   "name": "python3"
  },
  "language_info": {
   "codemirror_mode": {
    "name": "ipython",
    "version": 3
   },
   "file_extension": ".py",
   "mimetype": "text/x-python",
   "name": "python",
   "nbconvert_exporter": "python",
   "pygments_lexer": "ipython3",
   "version": "3.11.5"
  },
  "orig_nbformat": 4
 },
 "nbformat": 4,
 "nbformat_minor": 2
}
